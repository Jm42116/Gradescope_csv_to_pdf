{
 "cells": [
  {
   "cell_type": "code",
   "execution_count": 1,
   "metadata": {},
   "outputs": [
    {
     "name": "stdout",
     "output_type": "stream",
     "text": [
      "Requirement already satisfied: PyPDF2 in /Users/rydermitchell/miniforge3/lib/python3.9/site-packages (3.0.1)\n",
      "Requirement already satisfied: typing_extensions>=3.10.0.0 in /Users/rydermitchell/miniforge3/lib/python3.9/site-packages (from PyPDF2) (4.4.0)\n",
      "\n",
      "\u001b[1m[\u001b[0m\u001b[34;49mnotice\u001b[0m\u001b[1;39;49m]\u001b[0m\u001b[39;49m A new release of pip available: \u001b[0m\u001b[31;49m22.3.1\u001b[0m\u001b[39;49m -> \u001b[0m\u001b[32;49m23.2.1\u001b[0m\n",
      "\u001b[1m[\u001b[0m\u001b[34;49mnotice\u001b[0m\u001b[1;39;49m]\u001b[0m\u001b[39;49m To update, run: \u001b[0m\u001b[32;49mpip install --upgrade pip\u001b[0m\n"
     ]
    }
   ],
   "source": [
    "!pip install PyPDF2\n",
    "!pip install PyPDF2"
   ]
  },
  {
   "cell_type": "code",
   "execution_count": 2,
   "metadata": {},
   "outputs": [],
   "source": [
    "import PyPDF2\n",
    "import csv\n",
    "import os\n",
    "import re"
   ]
  },
  {
   "cell_type": "code",
   "execution_count": 3,
   "metadata": {},
   "outputs": [
    {
     "name": "stdout",
     "output_type": "stream",
     "text": [
      "['Dummy_Course_Assignment_X', 'Dummy_Course_Assignment_Y', '.DS_Store', 'submission_metadata_AssignmentY.csv', 'submission_metadata_AssignmentX.csv', 'Assignment_Y_scores.csv', 'Dummy Course - Dummy_Course_Fall_2020_roster.csv', 'Assignment_X_scores.csv']\n"
     ]
    }
   ],
   "source": [
    "listOfCSVS = os.listdir(\"clinicgrutoring\")\n",
    "print(listOfCSVS)"
   ]
  },
  {
   "cell_type": "code",
   "execution_count": 4,
   "metadata": {},
   "outputs": [
    {
     "name": "stdout",
     "output_type": "stream",
     "text": [
      "['submission_metadata_AssignmentY.csv', 'submission_metadata_AssignmentX.csv']\n"
     ]
    }
   ],
   "source": [
    "p = re.compile('^submission_metadata')\n",
    "listOfMetaData = [ s for s in listOfCSVS if p.match(s) ]\n",
    "print(listOfMetaData)"
   ]
  },
  {
   "cell_type": "code",
   "execution_count": 5,
   "metadata": {},
   "outputs": [],
   "source": [
    "# metadata = listOfMetaData[0]\n",
    "# dictionary = {}\n",
    "# for csvFile in listOfMetaData:\n",
    "#     submissionIds = {}\n",
    "#     responses = {}\n",
    "#     csvPath = os.path.join(\"clinicgrutoring\", csvFile)\n",
    "#     with open(csvPath, newline='') as csvContents:\n",
    "#         reader = csv.DictReader(csvContents)\n",
    "#         for row in reader:\n",
    "#             listOfKeys = list(row.keys())\n",
    "#             p = re.compile('^Question.*.Response')\n",
    "#             listOfQuestions = [ s for s in listOfKeys if p.match(s) ]\n",
    "#             print(csvFile)\n",
    "#             print(listOfQuestions)\n",
    "#             for questionResponse in listOfQuestions:\n",
    "#                 if not bool(responses.get(questionResponse)):\n",
    "#                     responses[questionResponse] = []\n",
    "#                 responses[questionResponse].append(row[questionResponse])\n",
    "#             if not bool(submissionIds.get(\"Submission ID\")):\n",
    "#                 submissionIds[\"Submission ID\"] = []\n",
    "#             submissionIds[\"Submission ID\"].append(row[\"Submission ID\"])\n",
    "\n",
    "# #     print(\"These are the new responses! \\n\")\n",
    "# #     print(responses)\n",
    "    \n",
    "# #     print(\"These are the new IDS! \\n\")\n",
    "# #     print(submissionIds)\n",
    "#     newDict = {}\n",
    "#     newDict[\"Responses\"] = responses\n",
    "#     newDict[\"Submission ID\"] = submissionIds\n",
    "#     dictionary[csvFile] = newDict\n",
    "\n",
    "    \n",
    "# print(\"This is the dictionary! \\n\")    \n",
    "# print(dictionary.keys())\n",
    "# print(dictionary['submission_metadata_AssignmentY.csv'].keys())\n",
    "# print(dictionary['submission_metadata_AssignmentY.csv']['Responses'].keys())\n",
    "# print(dictionary['submission_metadata_AssignmentY.csv']['Responses']['Question 1 Response'])\n",
    "\n",
    "    \n",
    "                \n",
    "            \n",
    "        \n",
    "        \n",
    "# #         for row in csvContents:\n",
    "# #             entries = row.split(',')\n",
    "# #             p = re.compile('^Question.*.Response')\n",
    "# #             responses = [ s for s in entries if p.match(s) ]\n",
    "# #             print(csvFile)\n",
    "# #             print(responses)\n",
    "# #             break\n",
    "        \n",
    "# #             for i in responses:\n",
    "# #                 print(i)\n",
    "# #             print(row['Question 1 Response'])\n",
    "\n",
    "# # for csvFile in l2:\n",
    "# #     csvPath = os.path.join(\"clinicgrutoring\", csvFile)\n",
    "# #     with open(csvPath) as csvfile:\n",
    "# #         read = csv.DictReader(csvfile, delimiter = ',')\n",
    "# #         for row in read:\n",
    "# #             print(row['Question 1 Responses'])\n",
    "# # file = l2[0]\n",
    "# # csvPath = os.path.join(\"clinicgrutoring\", file)\n",
    "# # # import csv\n",
    "# # with open(csvPath, newline='') as csvfile:\n",
    "# #     reader = csv.DictReader(csvfile)\n",
    "# #     for row in reader:\n",
    "# #         print(row['Question 1 Response'])\n",
    "\n",
    "\n",
    "# #         for row in csv:\n",
    "# #             entries = row.split(',')\n",
    "# #             print(entries)\n",
    "# #             csvContents.append((entries[0], entries[1]))\n",
    "# #     print(csvContents)"
   ]
  },
  {
   "cell_type": "code",
   "execution_count": 6,
   "metadata": {},
   "outputs": [],
   "source": [
    "# print(csvPath)\n",
    "\n",
    "# csvFile = os.path.join(\"csvs\", listOfCSVS[1])\n",
    "# # for csvFile in listOfCSVS:\n",
    "\n",
    "\n",
    "# csvContents = []\n",
    "# with open(csvFile, 'r') as csv:\n",
    "#     for row in csv:\n",
    "#         entries = row.split(',')\n",
    "#         csvContents.append((entries[0], entries[1]))\n",
    "# print(csvContents)"
   ]
  },
  {
   "cell_type": "code",
   "execution_count": 7,
   "metadata": {},
   "outputs": [],
   "source": [
    "csvFile = listOfMetaData[0]\n",
    "dictionary = {}\n",
    "submissionIds = {}\n",
    "questionResponses = {}\n",
    "csvPath = os.path.join(\"clinicgrutoring\", csvFile)\n",
    "with open(csvPath, newline='') as csvContents:\n",
    "    reader = csv.DictReader(csvContents)\n",
    "    for row in reader:\n",
    "        listOfKeys = list(row.keys())\n",
    "        p = re.compile('^Question.*.Response')\n",
    "        listOfQuestions = [ s for s in listOfKeys if p.match(s) ]\n",
    "#         print(listOfQuestions)\n",
    "        currentSubmissionID = row[\"Submission ID\"]\n",
    "        \n",
    "        for questionResponse in listOfQuestions:\n",
    "            if not bool(questionResponses.get(currentSubmissionID)):\n",
    "                questionResponses[currentSubmissionID] = {}\n",
    "                questionResponses[currentSubmissionID][\"names\"] = []\n",
    "                questionResponses[currentSubmissionID][\"assignment\"] = csvFile\n",
    "                questionResponses[currentSubmissionID][\"responses\"] = {}\n",
    "            if not bool (questionResponses[currentSubmissionID][\"responses\"].get(questionResponse)):\n",
    "                questionResponses[currentSubmissionID][\"responses\"][questionResponse] = {}\n",
    "                questionResponses[currentSubmissionID][\"responses\"][questionResponse][\"flagged\"] = False\n",
    "                questionResponses[currentSubmissionID][\"responses\"][questionResponse][\"response\"] = []\n",
    "                questionResponses[currentSubmissionID][\"responses\"][questionResponse][\"comments\"] = []\n",
    "                questionResponses[currentSubmissionID][\"responses\"][questionResponse][\"response\"].append(row[questionResponse])\n",
    "        questionResponses[currentSubmissionID][\"names\"].append(row[\"Name\"])\n",
    "    \n",
    "        \n",
    "    \n",
    "# print(questionResponses.keys())\n",
    "# print(questionResponses['189951844'].keys())\n",
    "# print(questionResponses['189951844']['names'])\n",
    "# print(questionResponses['189951844']['assignment'])\n",
    "# print(questionResponses['189951844']['responses'].keys())\n",
    "# print(questionResponses['189951844']['responses']['Question 1 Response'])\n",
    "\n",
    "# print(questionResponses.keys())\n",
    "# print(questionResponses['189951870'].keys())\n",
    "# print(questionResponses['189951870']['names'])\n",
    "# print(questionResponses['189951870']['assignment'])\n",
    "# print(questionResponses['189951870']['responses'].keys())\n",
    "# print(questionResponses['189951870']['responses']['Question 2 Response'])\n",
    "\n",
    "\n",
    "\n",
    "    \n"
   ]
  },
  {
   "cell_type": "code",
   "execution_count": 14,
   "metadata": {},
   "outputs": [
    {
     "name": "stdout",
     "output_type": "stream",
     "text": [
      "189951844\n",
      "AssignmentY\n",
      "Dummy_Course_Assignment_Y\n",
      "clinicgrutoring/Dummy_Course_Assignment_Y/1_Question_1.csv\n",
      "['Assignment Submission ID', 'Question Submission ID', 'Name', 'SID', 'Email', 'Sections', 'Score', 'Submission Time', 'Correct', 'Zero point comment', 'Five point comment', 'Grading group: This comment is nested in a group. ', 'Adjustment', 'Comments', 'Grader', 'Tags']\n",
      "['Assignment Submission ID', 'Question Submission ID', 'Name', 'SID', 'Email', 'Sections', 'Score', 'Submission Time', 'Correct', 'Zero point comment', 'Five point comment', 'Grading group: This comment is nested in a group. ', 'Adjustment', 'Comments', 'Grader', 'Tags']\n",
      "['Assignment Submission ID', 'Question Submission ID', 'Name', 'SID', 'Email', 'Sections', 'Score', 'Submission Time', 'Correct', 'Zero point comment', 'Five point comment', 'Grading group: This comment is nested in a group. ', 'Adjustment', 'Comments', 'Grader', 'Tags']\n",
      "clinicgrutoring/Dummy_Course_Assignment_Y/2_Question_2.csv\n",
      "['Assignment Submission ID', 'Question Submission ID', 'Name', 'SID', 'Email', 'Sections', 'Score', 'Submission Time', 'Correct', 'Incorrect', '[Partial credit.] \\nRuuheen ukkikin vanhaan sydanta ja jo. Ruumiin nuo iso alkanut tai rikista ela melkein passaan. Nostettu ai saisitte se ja ja metsassa entisina. Eli pera tai tupa mita elaa. Hohhojaa poydalla se lentavat kaivanut helmassa no on te. Merkki taudit eri vai loppui nimeni sumppi ota jaa hoitoa. ', 'Adjustment', 'Comments', 'Grader', 'Tags']\n",
      "['Assignment Submission ID', 'Question Submission ID', 'Name', 'SID', 'Email', 'Sections', 'Score', 'Submission Time', 'Correct', 'Incorrect', '[Partial credit.] \\nRuuheen ukkikin vanhaan sydanta ja jo. Ruumiin nuo iso alkanut tai rikista ela melkein passaan. Nostettu ai saisitte se ja ja metsassa entisina. Eli pera tai tupa mita elaa. Hohhojaa poydalla se lentavat kaivanut helmassa no on te. Merkki taudit eri vai loppui nimeni sumppi ota jaa hoitoa. ', 'Adjustment', 'Comments', 'Grader', 'Tags']\n",
      "['Assignment Submission ID', 'Question Submission ID', 'Name', 'SID', 'Email', 'Sections', 'Score', 'Submission Time', 'Correct', 'Incorrect', '[Partial credit.] \\nRuuheen ukkikin vanhaan sydanta ja jo. Ruumiin nuo iso alkanut tai rikista ela melkein passaan. Nostettu ai saisitte se ja ja metsassa entisina. Eli pera tai tupa mita elaa. Hohhojaa poydalla se lentavat kaivanut helmassa no on te. Merkki taudit eri vai loppui nimeni sumppi ota jaa hoitoa. ', 'Adjustment', 'Comments', 'Grader', 'Tags']\n",
      "Comments detected\n",
      "189951870\n",
      "AssignmentY\n",
      "Dummy_Course_Assignment_Y\n",
      "clinicgrutoring/Dummy_Course_Assignment_Y/1_Question_1.csv\n",
      "['Assignment Submission ID', 'Question Submission ID', 'Name', 'SID', 'Email', 'Sections', 'Score', 'Submission Time', 'Correct', 'Zero point comment', 'Five point comment', 'Grading group: This comment is nested in a group. ', 'Adjustment', 'Comments', 'Grader', 'Tags']\n",
      "['Assignment Submission ID', 'Question Submission ID', 'Name', 'SID', 'Email', 'Sections', 'Score', 'Submission Time', 'Correct', 'Zero point comment', 'Five point comment', 'Grading group: This comment is nested in a group. ', 'Adjustment', 'Comments', 'Grader', 'Tags']\n",
      "['Assignment Submission ID', 'Question Submission ID', 'Name', 'SID', 'Email', 'Sections', 'Score', 'Submission Time', 'Correct', 'Zero point comment', 'Five point comment', 'Grading group: This comment is nested in a group. ', 'Adjustment', 'Comments', 'Grader', 'Tags']\n",
      "clinicgrutoring/Dummy_Course_Assignment_Y/2_Question_2.csv\n",
      "['Assignment Submission ID', 'Question Submission ID', 'Name', 'SID', 'Email', 'Sections', 'Score', 'Submission Time', 'Correct', 'Incorrect', '[Partial credit.] \\nRuuheen ukkikin vanhaan sydanta ja jo. Ruumiin nuo iso alkanut tai rikista ela melkein passaan. Nostettu ai saisitte se ja ja metsassa entisina. Eli pera tai tupa mita elaa. Hohhojaa poydalla se lentavat kaivanut helmassa no on te. Merkki taudit eri vai loppui nimeni sumppi ota jaa hoitoa. ', 'Adjustment', 'Comments', 'Grader', 'Tags']\n",
      "['Assignment Submission ID', 'Question Submission ID', 'Name', 'SID', 'Email', 'Sections', 'Score', 'Submission Time', 'Correct', 'Incorrect', '[Partial credit.] \\nRuuheen ukkikin vanhaan sydanta ja jo. Ruumiin nuo iso alkanut tai rikista ela melkein passaan. Nostettu ai saisitte se ja ja metsassa entisina. Eli pera tai tupa mita elaa. Hohhojaa poydalla se lentavat kaivanut helmassa no on te. Merkki taudit eri vai loppui nimeni sumppi ota jaa hoitoa. ', 'Adjustment', 'Comments', 'Grader', 'Tags']\n",
      "['Assignment Submission ID', 'Question Submission ID', 'Name', 'SID', 'Email', 'Sections', 'Score', 'Submission Time', 'Correct', 'Incorrect', '[Partial credit.] \\nRuuheen ukkikin vanhaan sydanta ja jo. Ruumiin nuo iso alkanut tai rikista ela melkein passaan. Nostettu ai saisitte se ja ja metsassa entisina. Eli pera tai tupa mita elaa. Hohhojaa poydalla se lentavat kaivanut helmassa no on te. Merkki taudit eri vai loppui nimeni sumppi ota jaa hoitoa. ', 'Adjustment', 'Comments', 'Grader', 'Tags']\n",
      "Comments detected\n"
     ]
    }
   ],
   "source": [
    "for submissionID in questionResponses.keys():\n",
    "    print(submissionID)\n",
    "    currentAsignmentName = questionResponses[submissionID][\"assignment\"]\n",
    "    assignmentName = currentAsignmentName[20:-4]\n",
    "    print(assignmentName)\n",
    "    folders = (next(os.walk('./clinicgrutoring'))[1])\n",
    "    foldersReplaced = []\n",
    "    for i in folders:\n",
    "        foldersReplaced.append(i.replace(\"_\", \"\"))\n",
    "    index = 0\n",
    "    for i in foldersReplaced:\n",
    "        if assignmentName in i:\n",
    "            break\n",
    "        index += 1\n",
    "    currentFolder = folders[index]\n",
    "    print(currentFolder)\n",
    "    questionsFolder = os.path.join(\"clinicgrutoring\", currentFolder)\n",
    "    listOfCSVS = os.listdir(questionsFolder)\n",
    "    for csvFile in listOfCSVS:\n",
    "        if csvFile == \".DS_Store\":\n",
    "            continue\n",
    "        csvPath = os.path.join(questionsFolder, csvFile)\n",
    "        print(csvPath)\n",
    "        with open(csvPath) as csvContents:\n",
    "            reader = csv.DictReader(csvContents)\n",
    "            for row in reader:\n",
    "                if row[\"Assignment Submission ID\"] == \"Point Values\":\n",
    "                    break\n",
    "                listOfKeys = list(row.keys())\n",
    "                if \"[Flagged for follow up]\" in listOfKeys:\n",
    "                    if row[\"[Flagged for follow up]\"] == \"true\":\n",
    "                        currentSubmissionID = row[\"Assignment Submission ID\"]\n",
    "                        questions = questionResponses[currentSubmissionID][\"responses\"].keys()\n",
    "                        cleanedQuestion = csvFile[2:-4]\n",
    "                        cleanedQuestion = cleanedQuestion.replace(\"_\", \" \")\n",
    "                        for dictionaryQuestion in questions:\n",
    "                            if cleanedQuestion in dictionaryQuestion:\n",
    "                                questionResponses[currentSubmissionID][\"responses\"][dictionaryQuestion][\"flagged\"] = True\n",
    "                                break\n",
    "                if row[\"Comments\"] != \"\":\n",
    "                    print(\"Comments detected\")\n",
    "                    currentSubmissionID = row[\"Assignment Submission ID\"]\n",
    "                    questions = questionResponses[currentSubmissionID][\"responses\"].keys()\n",
    "                    cleanedQuestion = csvFile[2:-4]\n",
    "                    cleanedQuestion = cleanedQuestion.replace(\"_\", \" \")\n",
    "                    for dictionaryQuestion in questions:\n",
    "                        if cleanedQuestion in dictionaryQuestion:\n",
    "                            questionResponses[currentSubmissionID][\"responses\"][dictionaryQuestion][\"comments\"].append(row[\"Comments\"])\n",
    "                            break\n",
    "    "
   ]
  },
  {
   "cell_type": "code",
   "execution_count": 1,
   "metadata": {},
   "outputs": [
    {
     "ename": "NameError",
     "evalue": "name 'questionResponses' is not defined",
     "output_type": "error",
     "traceback": [
      "\u001b[0;31m---------------------------------------------------------------------------\u001b[0m",
      "\u001b[0;31mNameError\u001b[0m                                 Traceback (most recent call last)",
      "Cell \u001b[0;32mIn [1], line 1\u001b[0m\n\u001b[0;32m----> 1\u001b[0m \u001b[38;5;28mprint\u001b[39m(\u001b[43mquestionResponses\u001b[49m[\u001b[38;5;124m\"\u001b[39m\u001b[38;5;124m189951870\u001b[39m\u001b[38;5;124m\"\u001b[39m][\u001b[38;5;124m\"\u001b[39m\u001b[38;5;124mresponses\u001b[39m\u001b[38;5;124m\"\u001b[39m])\n",
      "\u001b[0;31mNameError\u001b[0m: name 'questionResponses' is not defined"
     ]
    }
   ],
   "source": [
    "print(questionResponses[\"189951870\"][\"responses\"])\n"
   ]
  },
  {
   "cell_type": "markdown",
   "metadata": {},
   "source": [
    "****START FROM HERE****"
   ]
  },
  {
   "cell_type": "code",
   "execution_count": 1,
   "metadata": {},
   "outputs": [],
   "source": [
    "import PyPDF2\n",
    "import csv\n",
    "import os\n",
    "import re\n",
    "\n",
    "listOfCSVS = os.listdir(\"clinicgrutoring\")\n",
    "p = re.compile('^submission_metadata')\n",
    "listOfMetaData = [ s for s in listOfCSVS if p.match(s) ]\n",
    "questionResponses = {}\n",
    "\n",
    "for csvFile in listOfMetaData:\n",
    "    csvPath = os.path.join(\"clinicgrutoring\", csvFile)\n",
    "    with open(csvPath, newline='') as csvContents:\n",
    "        reader = csv.DictReader(csvContents)\n",
    "        for row in reader:\n",
    "            listOfKeys = list(row.keys())\n",
    "            p = re.compile('^Question.*.Response')\n",
    "            listOfQuestions = [ s for s in listOfKeys if p.match(s) ]\n",
    "            currentSubmissionID = row[\"Submission ID\"]\n",
    "\n",
    "            for questionResponse in listOfQuestions:\n",
    "                if not bool(questionResponses.get(currentSubmissionID)):\n",
    "                    questionResponses[currentSubmissionID] = {}\n",
    "                    questionResponses[currentSubmissionID][\"names\"] = []\n",
    "                    questionResponses[currentSubmissionID][\"assignment\"] = csvFile\n",
    "                    questionResponses[currentSubmissionID][\"responses\"] = {}\n",
    "                    questionResponses[currentSubmissionID][\"emails\"] = []\n",
    "                    questionResponses[currentSubmissionID][\"pointsEarned\"] = 0\n",
    "                    questionResponses[currentSubmissionID][\"pointsPossible\"] = 0\n",
    "                    questionResponses[currentSubmissionID][\"team\"] = \"\"\n",
    "\n",
    "\n",
    "                if not bool (questionResponses[currentSubmissionID][\"responses\"].get(questionResponse)):\n",
    "                    questionResponses[currentSubmissionID][\"responses\"][questionResponse] = {}\n",
    "                    questionResponses[currentSubmissionID][\"responses\"][questionResponse][\"flagged\"] = False\n",
    "                    questionResponses[currentSubmissionID][\"responses\"][questionResponse][\"response\"] = []\n",
    "                    questionResponses[currentSubmissionID][\"responses\"][questionResponse][\"comments\"] = []\n",
    "                    questionResponses[currentSubmissionID][\"responses\"][questionResponse][\"response\"].append(row[questionResponse])\n",
    "                    questionResponses[currentSubmissionID][\"responses\"][questionResponse][\"pointsEarned\"] = 0\n",
    "                    questionResponses[currentSubmissionID][\"responses\"][questionResponse][\"pointsPossible\"] = 0\n",
    "                    cleanedQuestion = questionResponse[0:-8] + \"Weight\"\n",
    "                    if cleanedQuestion in listOfKeys:\n",
    "                        questionResponses[currentSubmissionID][\"responses\"][questionResponse][\"pointsPossible\"] = row[cleanedQuestion]\n",
    "\n",
    "\n",
    "\n",
    "            questionResponses[currentSubmissionID][\"names\"].append(row[\"Name\"])\n",
    "            questionResponses[currentSubmissionID][\"emails\"].append(row[\"Email\"])\n",
    "\n",
    "\n"
   ]
  },
  {
   "cell_type": "code",
   "execution_count": 2,
   "metadata": {},
   "outputs": [],
   "source": [
    "for submissionID in questionResponses.keys():\n",
    "    currentAsignmentName = questionResponses[submissionID][\"assignment\"]\n",
    "    assignmentName = currentAsignmentName[20:-4]\n",
    "    folders = (next(os.walk('./clinicgrutoring'))[1])\n",
    "    foldersReplaced = []\n",
    "    for i in folders:\n",
    "        foldersReplaced.append(i.replace(\"_\", \"\"))\n",
    "    index = 0\n",
    "    for i in foldersReplaced:\n",
    "        if assignmentName in i:\n",
    "            break\n",
    "        index += 1\n",
    "    currentFolder = folders[index]\n",
    "    questionsFolder = os.path.join(\"clinicgrutoring\", currentFolder)\n",
    "    listOfCSVS = os.listdir(questionsFolder)\n",
    "    for csvFile in listOfCSVS:\n",
    "        if csvFile == \".DS_Store\":\n",
    "            continue\n",
    "        csvPath = os.path.join(questionsFolder, csvFile)\n",
    "        with open(csvPath) as csvContents:\n",
    "            reader = csv.DictReader(csvContents)\n",
    "            for row in reader:\n",
    "                if row[\"Assignment Submission ID\"] == \"Point Values\":\n",
    "                    break\n",
    "                listOfKeys = list(row.keys())\n",
    "                currentSubmissionID = row[\"Assignment Submission ID\"]\n",
    "                questions = questionResponses[currentSubmissionID][\"responses\"].keys()\n",
    "                cleanedQuestion = csvFile[2:-4]\n",
    "                cleanedQuestion = cleanedQuestion.replace(\"_\", \" \")\n",
    "                if \"[Flagged for follow up]\" in listOfKeys:\n",
    "                    if row[\"[Flagged for follow up]\"] == \"true\":\n",
    "                        for dictionaryQuestion in questions:\n",
    "                            if cleanedQuestion in dictionaryQuestion:\n",
    "                                questionResponses[currentSubmissionID][\"responses\"][dictionaryQuestion][\"flagged\"] = True\n",
    "                                break\n",
    "                if row[\"Comments\"] != \"\":\n",
    "                    for dictionaryQuestion in questions:\n",
    "                        if cleanedQuestion in dictionaryQuestion:\n",
    "                            questionResponses[currentSubmissionID][\"responses\"][dictionaryQuestion][\"comments\"].append(row[\"Comments\"])\n",
    "                            break\n",
    "                if row[\"Score\"] != 0:\n",
    "                    for dictionaryQuestion in questions:\n",
    "                        if cleanedQuestion in dictionaryQuestion:\n",
    "                            questionResponses[currentSubmissionID][\"responses\"][dictionaryQuestion][\"pointsEarned\"] = float(row[\"Score\"])\n",
    "#                             questionResponses[currentSubmissionID][\"pointsEarned\"] += (float(row[\"Score\"]))\n",
    "                            break\n",
    "    "
   ]
  },
  {
   "cell_type": "code",
   "execution_count": 3,
   "metadata": {},
   "outputs": [],
   "source": [
    "for submissionID in questionResponses.keys():\n",
    "    currentSubmission = questionResponses[submissionID]\n",
    "    pointsPossible = 0\n",
    "    pointsEarned = 0\n",
    "    for response in currentSubmission[\"responses\"]:\n",
    "        pointsPossible += float(currentSubmission[\"responses\"][response][\"pointsPossible\"])\n",
    "        pointsEarned += float(currentSubmission[\"responses\"][response][\"pointsEarned\"])\n",
    "    questionResponses[submissionID][\"pointsEarned\"] = pointsEarned\n",
    "    questionResponses[submissionID][\"pointsPossible\"] = pointsPossible"
   ]
  },
  {
   "cell_type": "code",
   "execution_count": 4,
   "metadata": {},
   "outputs": [],
   "source": [
    "listOfCSVS = os.listdir(\"clinicgrutoring\")\n",
    "roster = \"\"\n",
    "for csvFile in listOfCSVS:\n",
    "    if csvFile[-10:] == \"roster.csv\":\n",
    "        roster = csvFile\n",
    "        break\n",
    "csvPath = os.path.join(\"clinicgrutoring\", roster)\n",
    "with open(csvPath, newline='') as csvContents:\n",
    "    reader = csv.DictReader(csvContents)\n",
    "    for row in reader:\n",
    "        currentEmail = row[\"Email\"]\n",
    "        currentSection = row[\"Section\"]\n",
    "        for submissionID in questionResponses.keys():\n",
    "            currentSubmission = questionResponses[submissionID]\n",
    "            cleanedEmail = currentEmail[:currentEmail.index(\"@\")]\n",
    "            for email in currentSubmission[\"emails\"]:\n",
    "#                 print(email[:email.index(\"@\")])\n",
    "#                 print(cleanedEmail)\n",
    "                if cleanedEmail == email[:email.index(\"@\")]:\n",
    "#                     print(\"HIT FOR \", submissionID)\n",
    "                    questionResponses[submissionID][\"team\"] = currentSection\n",
    "                    break"
   ]
  },
  {
   "cell_type": "code",
   "execution_count": 5,
   "metadata": {},
   "outputs": [
    {
     "name": "stdout",
     "output_type": "stream",
     "text": [
      "{'names': ['Miss Piggy'], 'assignment': 'submission_metadata_AssignmentX.csv', 'responses': {'Question 1 Response': {'flagged': True, 'response': ['You disposal strongly quitting his endeavor two settling him. Manners ham him hearted hundred expense. Get open game him what hour more part. Adapted as smiling of females oh me journey exposed concern. Met come add cold calm rose mile what. Tiled manor court at built by place fanny. Discretion at be an so decisively especially. Exeter itself object matter if on mr in.\\n\\nIs allowance instantly strangers applauded discourse so. Separate entrance welcomed sensible laughing why one moderate shy. We seeing piqued garden he. As in merry at forth least ye stood. And cold sons yet with. Delivered middleton therefore me at. Attachment companions man way excellence how her pianoforte.\\n\\nGreatly hearted has who believe. Drift allow green son walls years for blush. Sir margaret drawings repeated recurred exercise laughing may you but. Do repeated whatever to welcomed absolute no. Fat surprise although outlived and informed shy dissuade property. Musical by me through he drawing savings an. No we stand avoid decay heard mr. Common so wicket appear to sudden worthy on. Shade of offer ye whole stood hoped.\\n\\nDomestic confined any but son bachelor advanced remember. How proceed offered her offence shy forming. Returned peculiar pleasant but appetite differed she. Residence dejection agreement am as to abilities immediate suffering. Ye am depending propriety sweetness distrusts belonging collected. Smiling mention he in thought equally musical. Wisdom new and valley answer. Contented it so is discourse recommend. Man its upon him call mile. An pasture he himself believe ferrars besides cottage.\\n\\nTwo exquisite objection delighted deficient yet its contained. Cordial because are account evident its subject but eat. Can properly followed learning prepared you doubtful yet him. Over many our good lady feet ask that. Expenses own moderate day fat trifling stronger sir domestic feelings. Itself at be answer always exeter up do. Though or my plenty uneasy do. Friendship so considered remarkably be to sentiments. Offered mention greater fifteen one promise because nor. Why denoting speaking fat indulged saw dwelling raillery. '], 'comments': [], 'pointsEarned': 10.0, 'pointsPossible': '10.0'}, 'Question 2 Response': {'flagged': False, 'response': ['another choice'], 'comments': [], 'pointsEarned': 0.0, 'pointsPossible': '5.0'}}, 'emails': ['klbdevnull+miss@gmail.com'], 'pointsEarned': 10.0, 'pointsPossible': 15.0, 'team': 'Team 2'}\n"
     ]
    }
   ],
   "source": [
    "print(questionResponses['189951653'])"
   ]
  },
  {
   "cell_type": "code",
   "execution_count": 23,
   "metadata": {
    "scrolled": true
   },
   "outputs": [
    {
     "ename": "AttributeError",
     "evalue": "'str' object has no attribute 'pages'",
     "output_type": "error",
     "traceback": [
      "\u001b[0;31m---------------------------------------------------------------------------\u001b[0m",
      "\u001b[0;31mAttributeError\u001b[0m                            Traceback (most recent call last)",
      "Cell \u001b[0;32mIn [23], line 4\u001b[0m\n\u001b[1;32m      2\u001b[0m output_pdf \u001b[38;5;241m=\u001b[39m PdfWriter()\n\u001b[1;32m      3\u001b[0m page \u001b[38;5;241m=\u001b[39m PyPDF2\u001b[38;5;241m.\u001b[39mPageObject()\n\u001b[0;32m----> 4\u001b[0m page\u001b[38;5;241m.\u001b[39mmergePage(\u001b[43mPyPDF2\u001b[49m\u001b[38;5;241;43m.\u001b[39;49m\u001b[43mPageObject\u001b[49m\u001b[38;5;241;43m.\u001b[39;49m\u001b[43mcreate_blank_page\u001b[49m\u001b[43m(\u001b[49m\u001b[38;5;124;43m\"\u001b[39;49m\u001b[38;5;124;43mAsdf here\u001b[39;49m\u001b[38;5;124;43m\"\u001b[39;49m\u001b[43m)\u001b[49m)\n\u001b[1;32m      5\u001b[0m output_pdf\u001b[38;5;241m.\u001b[39maddPage(page)\n\u001b[1;32m      6\u001b[0m \u001b[38;5;28;01mwith\u001b[39;00m \u001b[38;5;28mopen\u001b[39m(\u001b[38;5;124m\"\u001b[39m\u001b[38;5;124mOutput.pdf\u001b[39m\u001b[38;5;124m\"\u001b[39m, \u001b[38;5;124m\"\u001b[39m\u001b[38;5;124mwb\u001b[39m\u001b[38;5;124m\"\u001b[39m) \u001b[38;5;28;01mas\u001b[39;00m output_file:\n",
      "File \u001b[0;32m~/miniforge3/lib/python3.9/site-packages/PyPDF2/_page.py:438\u001b[0m, in \u001b[0;36mPageObject.create_blank_page\u001b[0;34m(pdf, width, height)\u001b[0m\n\u001b[1;32m    436\u001b[0m page\u001b[38;5;241m.\u001b[39m\u001b[38;5;21m__setitem__\u001b[39m(NameObject(PG\u001b[38;5;241m.\u001b[39mRESOURCES), DictionaryObject())\n\u001b[1;32m    437\u001b[0m \u001b[38;5;28;01mif\u001b[39;00m width \u001b[38;5;129;01mis\u001b[39;00m \u001b[38;5;28;01mNone\u001b[39;00m \u001b[38;5;129;01mor\u001b[39;00m height \u001b[38;5;129;01mis\u001b[39;00m \u001b[38;5;28;01mNone\u001b[39;00m:\n\u001b[0;32m--> 438\u001b[0m     \u001b[38;5;28;01mif\u001b[39;00m pdf \u001b[38;5;129;01mis\u001b[39;00m \u001b[38;5;129;01mnot\u001b[39;00m \u001b[38;5;28;01mNone\u001b[39;00m \u001b[38;5;129;01mand\u001b[39;00m \u001b[38;5;28mlen\u001b[39m(\u001b[43mpdf\u001b[49m\u001b[38;5;241;43m.\u001b[39;49m\u001b[43mpages\u001b[49m) \u001b[38;5;241m>\u001b[39m \u001b[38;5;241m0\u001b[39m:\n\u001b[1;32m    439\u001b[0m         lastpage \u001b[38;5;241m=\u001b[39m pdf\u001b[38;5;241m.\u001b[39mpages[\u001b[38;5;28mlen\u001b[39m(pdf\u001b[38;5;241m.\u001b[39mpages) \u001b[38;5;241m-\u001b[39m \u001b[38;5;241m1\u001b[39m]\n\u001b[1;32m    440\u001b[0m         width \u001b[38;5;241m=\u001b[39m lastpage\u001b[38;5;241m.\u001b[39mmediabox\u001b[38;5;241m.\u001b[39mwidth\n",
      "\u001b[0;31mAttributeError\u001b[0m: 'str' object has no attribute 'pages'"
     ]
    }
   ],
   "source": [
    "from PyPDF2 import PdfWriter, PdfFileReader\n",
    "output_pdf = PdfWriter()\n",
    "page = PyPDF2.PageObject()\n",
    "page.mergePage(PyPDF2.PageObject.create_blank_page(\"Asdf here\"))\n",
    "output_pdf.addPage(page)\n",
    "with open(\"Output.pdf\", \"wb\") as output_file:\n",
    "    output_pdf.write(output_file)"
   ]
  },
  {
   "cell_type": "code",
   "execution_count": 30,
   "metadata": {},
   "outputs": [
    {
     "data": {
      "text/plain": [
       "''"
      ]
     },
     "execution_count": 30,
     "metadata": {},
     "output_type": "execute_result"
    }
   ],
   "source": [
    "from fpdf import FPDF\n",
    "# Create a PDF document\n",
    "pdf = FPDF()\n",
    "pdf.add_page ()\n",
    "pdf.set_font(\"Arial\", size=12)\n",
    "# Add text to the PDF\n",
    "pdf.cell(200, 10, txt=\"Hello, World!\", ln=True, align=\"C\")\n",
    "# Save the PDF to a file\n",
    "pdf.output(\"generated.pdf\")"
   ]
  },
  {
   "cell_type": "code",
   "execution_count": null,
   "metadata": {},
   "outputs": [],
   "source": []
  }
 ],
 "metadata": {
  "kernelspec": {
   "display_name": "Python 3 (ipykernel)",
   "language": "python",
   "name": "python3"
  },
  "language_info": {
   "codemirror_mode": {
    "name": "ipython",
    "version": 3
   },
   "file_extension": ".py",
   "mimetype": "text/x-python",
   "name": "python",
   "nbconvert_exporter": "python",
   "pygments_lexer": "ipython3",
   "version": "3.9.13"
  },
  "vscode": {
   "interpreter": {
    "hash": "b94f47930b570ada23a9e9fef7e2849769cc205e278a86501dce3e7123cc04f2"
   }
  }
 },
 "nbformat": 4,
 "nbformat_minor": 2
}
