{
 "cells": [
  {
   "cell_type": "code",
   "execution_count": 1,
   "metadata": {},
   "outputs": [
    {
     "name": "stdout",
     "output_type": "stream",
     "text": [
      "Requirement already satisfied: PyPDF2 in /Users/rydermitchell/miniforge3/lib/python3.9/site-packages (3.0.1)\n",
      "Requirement already satisfied: typing_extensions>=3.10.0.0 in /Users/rydermitchell/miniforge3/lib/python3.9/site-packages (from PyPDF2) (4.4.0)\n",
      "\n",
      "\u001b[1m[\u001b[0m\u001b[34;49mnotice\u001b[0m\u001b[1;39;49m]\u001b[0m\u001b[39;49m A new release of pip available: \u001b[0m\u001b[31;49m22.3.1\u001b[0m\u001b[39;49m -> \u001b[0m\u001b[32;49m23.2.1\u001b[0m\n",
      "\u001b[1m[\u001b[0m\u001b[34;49mnotice\u001b[0m\u001b[1;39;49m]\u001b[0m\u001b[39;49m To update, run: \u001b[0m\u001b[32;49mpip install --upgrade pip\u001b[0m\n"
     ]
    }
   ],
   "source": [
    "!pip install PyPDF2"
   ]
  },
  {
   "cell_type": "code",
   "execution_count": 2,
   "metadata": {},
   "outputs": [],
   "source": [
    "import PyPDF2\n",
    "import csv\n",
    "import os\n",
    "import re"
   ]
  },
  {
   "cell_type": "code",
   "execution_count": 3,
   "metadata": {},
   "outputs": [
    {
     "name": "stdout",
     "output_type": "stream",
     "text": [
      "['Dummy_Course_Assignment_X', 'Dummy_Course_Assignment_Y', '.DS_Store', 'submission_metadata_AssignmentY.csv', 'submission_metadata_AssignmentX.csv', 'Assignment_Y_scores.csv', 'Dummy Course - Dummy_Course_Fall_2020_roster.csv', 'Assignment_X_scores.csv']\n"
     ]
    }
   ],
   "source": [
    "listOfCSVS = os.listdir(\"clinicgrutoring\")\n",
    "print(listOfCSVS)"
   ]
  },
  {
   "cell_type": "code",
   "execution_count": 4,
   "metadata": {},
   "outputs": [
    {
     "name": "stdout",
     "output_type": "stream",
     "text": [
      "['submission_metadata_AssignmentY.csv', 'submission_metadata_AssignmentX.csv']\n"
     ]
    }
   ],
   "source": [
    "p = re.compile('^submission_metadata')\n",
    "listOfMetaData = [ s for s in listOfCSVS if p.match(s) ]\n",
    "print(listOfMetaData)"
   ]
  },
  {
   "cell_type": "code",
   "execution_count": 79,
   "metadata": {},
   "outputs": [
    {
     "name": "stdout",
     "output_type": "stream",
     "text": [
      "submission_metadata_AssignmentY.csv\n",
      "['Question 1 Response', 'Question 2 Response']\n",
      "submission_metadata_AssignmentY.csv\n",
      "['Question 1 Response', 'Question 2 Response']\n",
      "submission_metadata_AssignmentY.csv\n",
      "['Question 1 Response', 'Question 2 Response']\n",
      "submission_metadata_AssignmentX.csv\n",
      "['Question 1 Response', 'Question 2 Response']\n",
      "submission_metadata_AssignmentX.csv\n",
      "['Question 1 Response', 'Question 2 Response']\n",
      "submission_metadata_AssignmentX.csv\n",
      "['Question 1 Response', 'Question 2 Response']\n",
      "This is the dictionary! \n",
      "\n",
      "dict_keys(['submission_metadata_AssignmentY.csv', 'submission_metadata_AssignmentX.csv'])\n",
      "dict_keys(['Responses', 'Submission ID'])\n",
      "dict_keys(['Question 1 Response', 'Question 2 Response'])\n",
      "[' Far quitting dwelling graceful the likewise received building. An fact so to that show am shed sold cold. Unaffected remarkably get yet introduced excellence terminated led. Result either design saw she esteem and. On ashamed no inhabit ferrars it ye besides resolve. Own judgment directly few trifling. Elderly as pursuit at regular do parlors. Rank what has into fond she.\\n\\nHowever venture pursuit he am mr cordial. Forming musical am hearing studied be luckily. Ourselves for determine attending how led gentleman sincerity. Valley afford uneasy joy she thrown though bed set. In me forming general prudent on country carried. Behaved an or suppose justice. Seemed whence how son rather easily and change missed. Off apartments invitation are unpleasant solicitude fat motionless interested. Hardly suffer wisdom wishes valley as an. As friendship advantages resolution it alteration stimulated he or increasing.\\n\\nMr do raising article general norland my hastily. Its companions say uncommonly pianoforte favourable. Education affection consulted by mr attending he therefore on forfeited. High way more far feet kind evil play led. Sometimes furnished collected add for resources attention. Norland an by minuter enquire it general on towards forming. Adapted mrs totally company two yet conduct men.\\n', ' Far quitting dwelling graceful the likewise received building. An fact so to that show am shed sold cold. Unaffected remarkably get yet introduced excellence terminated led. Result either design saw she esteem and. On ashamed no inhabit ferrars it ye besides resolve. Own judgment directly few trifling. Elderly as pursuit at regular do parlors. Rank what has into fond she.\\n\\nHowever venture pursuit he am mr cordial. Forming musical am hearing studied be luckily. Ourselves for determine attending how led gentleman sincerity. Valley afford uneasy joy she thrown though bed set. In me forming general prudent on country carried. Behaved an or suppose justice. Seemed whence how son rather easily and change missed. Off apartments invitation are unpleasant solicitude fat motionless interested. Hardly suffer wisdom wishes valley as an. As friendship advantages resolution it alteration stimulated he or increasing.\\n\\nMr do raising article general norland my hastily. Its companions say uncommonly pianoforte favourable. Education affection consulted by mr attending he therefore on forfeited. High way more far feet kind evil play led. Sometimes furnished collected add for resources attention. Norland an by minuter enquire it general on towards forming. Adapted mrs totally company two yet conduct men.\\n', 'Residence certainly elsewhere something she preferred cordially law. Age his surprise formerly mrs perceive few stanhill moderate. Of in power match on truth worse voice would. Large an it sense shall an match learn. By expect it result silent in formal of. Ask eat questions abilities described elsewhere assurance. Appetite in unlocked advanced breeding position concerns as. Cheerful get shutters yet for repeated screened. An no am cause hopes at three. Prevent behaved fertile he is mistake on. ']\n"
     ]
    }
   ],
   "source": [
    "metadata = listOfMetaData[0]\n",
    "dictionary = {}\n",
    "for csvFile in listOfMetaData:\n",
    "    submissionIds = {}\n",
    "    responses = {}\n",
    "    csvPath = os.path.join(\"clinicgrutoring\", csvFile)\n",
    "    with open(csvPath, newline='') as csvContents:\n",
    "        reader = csv.DictReader(csvContents)\n",
    "        for row in reader:\n",
    "            listOfKeys = list(row.keys())\n",
    "            p = re.compile('^Question.*.Response')\n",
    "            listOfQuestions = [ s for s in listOfKeys if p.match(s) ]\n",
    "            print(csvFile)\n",
    "            print(listOfQuestions)\n",
    "            for questionResponse in listOfQuestions:\n",
    "                if not bool(responses.get(questionResponse)):\n",
    "                    responses[questionResponse] = []\n",
    "                responses[questionResponse].append(row[questionResponse])\n",
    "            if not bool(submissionIds.get(\"Submission ID\")):\n",
    "                submissionIds[\"Submission ID\"] = []\n",
    "            submissionIds[\"Submission ID\"].append(row[\"Submission ID\"])\n",
    "\n",
    "#     print(\"These are the new responses! \\n\")\n",
    "#     print(responses)\n",
    "    \n",
    "#     print(\"These are the new IDS! \\n\")\n",
    "#     print(submissionIds)\n",
    "    newDict = {}\n",
    "    newDict[\"Responses\"] = responses\n",
    "    newDict[\"Submission ID\"] = submissionIds\n",
    "    dictionary[csvFile] = newDict\n",
    "\n",
    "    \n",
    "print(\"This is the dictionary! \\n\")    \n",
    "print(dictionary.keys())\n",
    "print(dictionary['submission_metadata_AssignmentY.csv'].keys())\n",
    "print(dictionary['submission_metadata_AssignmentY.csv']['Responses'].keys())\n",
    "print(dictionary['submission_metadata_AssignmentY.csv']['Responses']['Question 1 Response'])\n",
    "\n",
    "    \n",
    "                \n",
    "            \n",
    "        \n",
    "        \n",
    "#         for row in csvContents:\n",
    "#             entries = row.split(',')\n",
    "#             p = re.compile('^Question.*.Response')\n",
    "#             responses = [ s for s in entries if p.match(s) ]\n",
    "#             print(csvFile)\n",
    "#             print(responses)\n",
    "#             break\n",
    "        \n",
    "#             for i in responses:\n",
    "#                 print(i)\n",
    "#             print(row['Question 1 Response'])\n",
    "\n",
    "# for csvFile in l2:\n",
    "#     csvPath = os.path.join(\"clinicgrutoring\", csvFile)\n",
    "#     with open(csvPath) as csvfile:\n",
    "#         read = csv.DictReader(csvfile, delimiter = ',')\n",
    "#         for row in read:\n",
    "#             print(row['Question 1 Responses'])\n",
    "# file = l2[0]\n",
    "# csvPath = os.path.join(\"clinicgrutoring\", file)\n",
    "# # import csv\n",
    "# with open(csvPath, newline='') as csvfile:\n",
    "#     reader = csv.DictReader(csvfile)\n",
    "#     for row in reader:\n",
    "#         print(row['Question 1 Response'])\n",
    "\n",
    "\n",
    "#         for row in csv:\n",
    "#             entries = row.split(',')\n",
    "#             print(entries)\n",
    "#             csvContents.append((entries[0], entries[1]))\n",
    "#     print(csvContents)"
   ]
  },
  {
   "cell_type": "code",
   "execution_count": 46,
   "metadata": {},
   "outputs": [
    {
     "name": "stdout",
     "output_type": "stream",
     "text": [
      "clinicgrutoring/submission_metadata_AssignmentY.csv\n"
     ]
    }
   ],
   "source": [
    "print(csvPath)\n",
    "\n",
    "# csvFile = os.path.join(\"csvs\", listOfCSVS[1])\n",
    "# # for csvFile in listOfCSVS:\n",
    "\n",
    "\n",
    "# csvContents = []\n",
    "# with open(csvFile, 'r') as csv:\n",
    "#     for row in csv:\n",
    "#         entries = row.split(',')\n",
    "#         csvContents.append((entries[0], entries[1]))\n",
    "# print(csvContents)"
   ]
  },
  {
   "cell_type": "code",
   "execution_count": 27,
   "metadata": {},
   "outputs": [
    {
     "name": "stdout",
     "output_type": "stream",
     "text": [
      "['Question 1 Response', 'Question 2 Response']\n",
      "['Question 1 Response', 'Question 2 Response']\n",
      "['Question 1 Response', 'Question 2 Response']\n",
      "dict_keys(['189951844', '189951870'])\n",
      "dict_keys(['names', 'assignment', 'responses'])\n",
      "['Kermit LeFrog', 'Miss Piggy']\n",
      "submission_metadata_AssignmentY.csv\n",
      "dict_keys(['Question 1 Response', 'Question 2 Response'])\n",
      "[' Far quitting dwelling graceful the likewise received building. An fact so to that show am shed sold cold. Unaffected remarkably get yet introduced excellence terminated led. Result either design saw she esteem and. On ashamed no inhabit ferrars it ye besides resolve. Own judgment directly few trifling. Elderly as pursuit at regular do parlors. Rank what has into fond she.\\n\\nHowever venture pursuit he am mr cordial. Forming musical am hearing studied be luckily. Ourselves for determine attending how led gentleman sincerity. Valley afford uneasy joy she thrown though bed set. In me forming general prudent on country carried. Behaved an or suppose justice. Seemed whence how son rather easily and change missed. Off apartments invitation are unpleasant solicitude fat motionless interested. Hardly suffer wisdom wishes valley as an. As friendship advantages resolution it alteration stimulated he or increasing.\\n\\nMr do raising article general norland my hastily. Its companions say uncommonly pianoforte favourable. Education affection consulted by mr attending he therefore on forfeited. High way more far feet kind evil play led. Sometimes furnished collected add for resources attention. Norland an by minuter enquire it general on towards forming. Adapted mrs totally company two yet conduct men.\\n']\n",
      "dict_keys(['189951844', '189951870'])\n",
      "dict_keys(['names', 'assignment', 'responses'])\n",
      "['Fulano Estudiante']\n",
      "submission_metadata_AssignmentY.csv\n",
      "dict_keys(['Question 1 Response', 'Question 2 Response'])\n",
      "['another choice']\n"
     ]
    }
   ],
   "source": [
    "csvFile = listOfMetaData[0]\n",
    "dictionary = {}\n",
    "submissionIds = {}\n",
    "questionResponses = {}\n",
    "csvPath = os.path.join(\"clinicgrutoring\", csvFile)\n",
    "with open(csvPath, newline='') as csvContents:\n",
    "    reader = csv.DictReader(csvContents)\n",
    "    for row in reader:\n",
    "        listOfKeys = list(row.keys())\n",
    "        p = re.compile('^Question.*.Response')\n",
    "        listOfQuestions = [ s for s in listOfKeys if p.match(s) ]\n",
    "        print(listOfQuestions)\n",
    "        currentSubmissionID = row[\"Submission ID\"]\n",
    "        \n",
    "        for questionResponse in listOfQuestions:\n",
    "            if not bool(questionResponses.get(currentSubmissionID)):\n",
    "                questionResponses[currentSubmissionID] = {}\n",
    "                questionResponses[currentSubmissionID][\"names\"] = []\n",
    "                questionResponses[currentSubmissionID][\"assignment\"] = csvFile\n",
    "                questionResponses[currentSubmissionID][\"responses\"] = {}\n",
    "            if not bool (questionResponses[currentSubmissionID][\"responses\"].get(questionResponse)):\n",
    "                questionResponses[currentSubmissionID][\"responses\"][questionResponse] = []\n",
    "                questionResponses[currentSubmissionID][\"responses\"][questionResponse].append(row[questionResponse])\n",
    "        questionResponses[currentSubmissionID][\"names\"].append(row[\"Name\"])\n",
    "    \n",
    "        \n",
    "    \n",
    "print(questionResponses.keys())\n",
    "print(questionResponses['189951844'].keys())\n",
    "print(questionResponses['189951844']['names'])\n",
    "print(questionResponses['189951844']['assignment'])\n",
    "print(questionResponses['189951844']['responses'].keys())\n",
    "print(questionResponses['189951844']['responses']['Question 1 Response'])\n",
    "\n",
    "print(questionResponses.keys())\n",
    "print(questionResponses['189951870'].keys())\n",
    "print(questionResponses['189951870']['names'])\n",
    "print(questionResponses['189951870']['assignment'])\n",
    "print(questionResponses['189951870']['responses'].keys())\n",
    "print(questionResponses['189951870']['responses']['Question 2 Response'])"
   ]
  },
  {
   "cell_type": "code",
   "execution_count": null,
   "metadata": {},
   "outputs": [],
   "source": []
  }
 ],
 "metadata": {
  "kernelspec": {
   "display_name": "Python 3 (ipykernel)",
   "language": "python",
   "name": "python3"
  },
  "language_info": {
   "codemirror_mode": {
    "name": "ipython",
    "version": 3
   },
   "file_extension": ".py",
   "mimetype": "text/x-python",
   "name": "python",
   "nbconvert_exporter": "python",
   "pygments_lexer": "ipython3",
   "version": "3.9.13"
  },
  "vscode": {
   "interpreter": {
    "hash": "b94f47930b570ada23a9e9fef7e2849769cc205e278a86501dce3e7123cc04f2"
   }
  }
 },
 "nbformat": 4,
 "nbformat_minor": 2
}
